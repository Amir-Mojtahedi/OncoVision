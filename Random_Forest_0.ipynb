{
  "nbformat": 4,
  "nbformat_minor": 0,
  "metadata": {
    "colab": {
      "provenance": [],
      "authorship_tag": "ABX9TyP0gycsIgLXk7+Bq6BNYA40"
    },
    "kernelspec": {
      "name": "python3",
      "display_name": "Python 3"
    },
    "language_info": {
      "name": "python"
    }
  },
  "cells": [
    {
      "cell_type": "code",
      "source": [
        "import pandas as pd\n",
        "import os\n",
        "\n",
        "from sklearn.preprocessing import LabelEncoder\n",
        "from sklearn.preprocessing import StandardScaler\n",
        "from sklearn.ensemble import RandomForestClassifier\n",
        "from sklearn.model_selection import train_test_split\n",
        "\n",
        "\n",
        "df = pd.read_csv(f'{os.getcwd()}/back-end/ai/breast-cancer.csv')\n",
        "df.drop(['id'], axis=1, inplace=True)\n",
        "df['diagnosis'] = LabelEncoder().fit_transform(df['diagnosis'])\n",
        "\n",
        "# Compute correlation of features with target\n",
        "correlation = df.corr()['diagnosis'].abs().sort_values(ascending=False)\n",
        "top_5_features = correlation[1:6]  # Exclude the target itself\n",
        "\n",
        "# Separate our predictors and target\n",
        "top_5 = top_5_features.index.tolist()  # Get column names as a list\n",
        "X = df[top_5]  # Select only these columns\n",
        "y = df['diagnosis']\n",
        "\n",
        "scaler = StandardScaler()\n",
        "X_scaled = scaler.fit_transform(X)\n",
        "\n",
        "# Split the data into training set and testing set\n",
        "X_train, X_test, y_train, y_test = train_test_split(X_scaled, y, test_size=0.25, random_state=42)\n",
        "\n",
        "# Create a logistic regression model\n",
        "randomForestModel = RandomForestClassifier()\n",
        "randomForestModel.fit(X_train, y_train)"
      ],
      "metadata": {
        "id": "eNgXjcItyWFp"
      },
      "execution_count": null,
      "outputs": []
    }
  ]
}